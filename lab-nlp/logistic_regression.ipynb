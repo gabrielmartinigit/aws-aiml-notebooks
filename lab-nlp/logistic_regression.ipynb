{
 "cells": [
  {
   "cell_type": "markdown",
   "metadata": {},
   "source": [
    "# <a name=\"0\">Machine Learning Accelerator - Natural Language Processing - Lecture 1</a>\n",
    "\n",
    "## Logistic Regression Model for a Classification Problem: Classify Product Reviews as Positive or Negative\n",
    "\n",
    "In this notebook, we use the Pytorch library to build a logistic regression model as a single layer neural network. Then, we will classify product reviews as positive or negative (similar to the final project dataset that you will see).\n",
    "\n",
    "\n",
    "1. <a href=\"#1\">Reading the dataset</a>\n",
    "2. <a href=\"#2\">Exploratory data analysis</a>\n",
    "3. <a href=\"#3\">Text Processing: Stop words removal and stemming</a>\n",
    "4. <a href=\"#4\">Train - Validation Split</a>\n",
    "5. <a href=\"#5\">Data processing with Pipeline</a>\n",
    "6. <a href=\"#6\">Train the classifier</a>\n",
    "7. <a href=\"#7\">Make predictions on the validation data and test the classifier</a>\n",
    "8. <a href=\"#8\">Getting predictions on the test data and saving results</a>\n",
    "9. <a href=\"#9\">Ideas for improvement</a>\n",
    "\n",
    "Overall dataset schema:\n",
    "* __reviewText:__ Text of the review\n",
    "* __summary:__ Summary of the review\n",
    "* __verified:__ Whether the purchase was verified (True or False)\n",
    "* __time:__ UNIX timestamp for the review\n",
    "* __log_votes:__ Logarithm-adjusted votes log(1+votes). *This field is a processed version of the votes field. People can click on the \"helpful\" button when they find a customer review helpful. This increases the vote by 1. __log_votes__ is calculated like this log(1+votes). This formulation helps us get a smaller range for votes.*\n",
    "* __isPositive:__ Whether the review is positive or negative (1 or 0)\n"
   ]
  },
  {
   "cell_type": "code",
   "execution_count": 1,
   "metadata": {},
   "outputs": [],
   "source": [
    "# Upgrade dependencies\n",
    "!pip install -q -r ../../requirements.txt"
   ]
  },
  {
   "cell_type": "code",
   "execution_count": 2,
   "metadata": {},
   "outputs": [
    {
     "name": "stderr",
     "output_type": "stream",
     "text": [
      "[nltk_data] Downloading package punkt to /home/ec2-user/nltk_data...\n",
      "[nltk_data]   Package punkt is already up-to-date!\n",
      "[nltk_data] Downloading package stopwords to\n",
      "[nltk_data]     /home/ec2-user/nltk_data...\n",
      "[nltk_data]   Package stopwords is already up-to-date!\n"
     ]
    }
   ],
   "source": [
    "import os\n",
    "import numpy as np\n",
    "import pandas as pd\n",
    "import nltk, re\n",
    "import time\n",
    "import torch\n",
    "import torch.nn as nn\n",
    "\n",
    "from os import path\n",
    "from sklearn.feature_extraction.text import TfidfVectorizer\n",
    "from sklearn.model_selection import train_test_split\n",
    "from sklearn.metrics import confusion_matrix, classification_report, accuracy_score\n",
    "from torch.utils.data import TensorDataset\n",
    "from torch.utils.data import DataLoader\n",
    "from torch.nn import BCELoss\n",
    "from nltk.corpus import stopwords\n",
    "from nltk.stem import SnowballStemmer\n",
    "from nltk.tokenize import word_tokenize\n",
    "\n",
    "nltk.download(\"punkt\")\n",
    "nltk.download(\"stopwords\")\n",
    "\n",
    "%matplotlib inline\n",
    "import matplotlib.pyplot as plt"
   ]
  },
  {
   "cell_type": "markdown",
   "metadata": {},
   "source": [
    "## 1. <a name=\"1\">Reading the dataset</a>\n",
    "(<a href=\"#0\">Go to top</a>)\n",
    "\n",
    "We will first download the dataset and then use the __pandas__ library to read it."
   ]
  },
  {
   "cell_type": "code",
   "execution_count": 3,
   "metadata": {},
   "outputs": [
    {
     "name": "stdout",
     "output_type": "stream",
     "text": [
      "The shape of the dataset is: (56000, 7)\n"
     ]
    }
   ],
   "source": [
    "df = pd.read_csv(\"../../data/examples/NLP-REVIEW-DATA-CLASSIFICATION-TRAINING.csv\")\n",
    "\n",
    "print(f\"The shape of the dataset is: {df.shape}\")"
   ]
  },
  {
   "cell_type": "markdown",
   "metadata": {},
   "source": [
    "Let's look at the first 10 rows of the dataset. "
   ]
  },
  {
   "cell_type": "code",
   "execution_count": 4,
   "metadata": {},
   "outputs": [
    {
     "data": {
      "text/html": [
       "<div>\n",
       "<style scoped>\n",
       "    .dataframe tbody tr th:only-of-type {\n",
       "        vertical-align: middle;\n",
       "    }\n",
       "\n",
       "    .dataframe tbody tr th {\n",
       "        vertical-align: top;\n",
       "    }\n",
       "\n",
       "    .dataframe thead th {\n",
       "        text-align: right;\n",
       "    }\n",
       "</style>\n",
       "<table border=\"1\" class=\"dataframe\">\n",
       "  <thead>\n",
       "    <tr style=\"text-align: right;\">\n",
       "      <th></th>\n",
       "      <th>ID</th>\n",
       "      <th>reviewText</th>\n",
       "      <th>summary</th>\n",
       "      <th>verified</th>\n",
       "      <th>time</th>\n",
       "      <th>log_votes</th>\n",
       "      <th>isPositive</th>\n",
       "    </tr>\n",
       "  </thead>\n",
       "  <tbody>\n",
       "    <tr>\n",
       "      <th>0</th>\n",
       "      <td>65886</td>\n",
       "      <td>Purchased as a quick fix for a needed Server 2...</td>\n",
       "      <td>Easy install, seamless migration</td>\n",
       "      <td>True</td>\n",
       "      <td>1458864000</td>\n",
       "      <td>0.000000</td>\n",
       "      <td>1.0</td>\n",
       "    </tr>\n",
       "    <tr>\n",
       "      <th>1</th>\n",
       "      <td>19822</td>\n",
       "      <td>So far so good. Installation was simple. And r...</td>\n",
       "      <td>Five Stars</td>\n",
       "      <td>True</td>\n",
       "      <td>1417478400</td>\n",
       "      <td>0.000000</td>\n",
       "      <td>1.0</td>\n",
       "    </tr>\n",
       "    <tr>\n",
       "      <th>2</th>\n",
       "      <td>14558</td>\n",
       "      <td>Microsoft keeps making Visual Studio better. I...</td>\n",
       "      <td>This is the best development tool I've ever used.</td>\n",
       "      <td>False</td>\n",
       "      <td>1252886400</td>\n",
       "      <td>0.000000</td>\n",
       "      <td>1.0</td>\n",
       "    </tr>\n",
       "    <tr>\n",
       "      <th>3</th>\n",
       "      <td>39708</td>\n",
       "      <td>Very good product.</td>\n",
       "      <td>Very good product.</td>\n",
       "      <td>True</td>\n",
       "      <td>1458604800</td>\n",
       "      <td>0.000000</td>\n",
       "      <td>1.0</td>\n",
       "    </tr>\n",
       "    <tr>\n",
       "      <th>4</th>\n",
       "      <td>8015</td>\n",
       "      <td>So very different from my last version and I a...</td>\n",
       "      <td>... from my last version and I am having a gre...</td>\n",
       "      <td>True</td>\n",
       "      <td>1454716800</td>\n",
       "      <td>2.197225</td>\n",
       "      <td>0.0</td>\n",
       "    </tr>\n",
       "    <tr>\n",
       "      <th>5</th>\n",
       "      <td>44530</td>\n",
       "      <td>The course is easy to follow, explicit instruc...</td>\n",
       "      <td>Well worth the money!</td>\n",
       "      <td>False</td>\n",
       "      <td>1448496000</td>\n",
       "      <td>0.000000</td>\n",
       "      <td>1.0</td>\n",
       "    </tr>\n",
       "    <tr>\n",
       "      <th>6</th>\n",
       "      <td>19648</td>\n",
       "      <td>Microsoft claims Streets &amp; Trips 2008 is compa...</td>\n",
       "      <td>Microsoft Lies : Vista sucks : How to use it a...</td>\n",
       "      <td>False</td>\n",
       "      <td>1231891200</td>\n",
       "      <td>0.000000</td>\n",
       "      <td>0.0</td>\n",
       "    </tr>\n",
       "    <tr>\n",
       "      <th>7</th>\n",
       "      <td>3360</td>\n",
       "      <td>The user interface is clunky. For example, the...</td>\n",
       "      <td>Too bad it isn't better; also, installation pr...</td>\n",
       "      <td>False</td>\n",
       "      <td>1335398400</td>\n",
       "      <td>0.000000</td>\n",
       "      <td>0.0</td>\n",
       "    </tr>\n",
       "    <tr>\n",
       "      <th>8</th>\n",
       "      <td>25378</td>\n",
       "      <td>They will automatically bill you for $179 afte...</td>\n",
       "      <td>Beware signing up for free 3 months online</td>\n",
       "      <td>False</td>\n",
       "      <td>1167350400</td>\n",
       "      <td>2.397895</td>\n",
       "      <td>0.0</td>\n",
       "    </tr>\n",
       "    <tr>\n",
       "      <th>9</th>\n",
       "      <td>20006</td>\n",
       "      <td>Download the free complete version from Corel ...</td>\n",
       "      <td>Mutiple crashes</td>\n",
       "      <td>False</td>\n",
       "      <td>1259452800</td>\n",
       "      <td>1.098612</td>\n",
       "      <td>0.0</td>\n",
       "    </tr>\n",
       "  </tbody>\n",
       "</table>\n",
       "</div>"
      ],
      "text/plain": [
       "      ID                                         reviewText  \\\n",
       "0  65886  Purchased as a quick fix for a needed Server 2...   \n",
       "1  19822  So far so good. Installation was simple. And r...   \n",
       "2  14558  Microsoft keeps making Visual Studio better. I...   \n",
       "3  39708                                 Very good product.   \n",
       "4   8015  So very different from my last version and I a...   \n",
       "5  44530  The course is easy to follow, explicit instruc...   \n",
       "6  19648  Microsoft claims Streets & Trips 2008 is compa...   \n",
       "7   3360  The user interface is clunky. For example, the...   \n",
       "8  25378  They will automatically bill you for $179 afte...   \n",
       "9  20006  Download the free complete version from Corel ...   \n",
       "\n",
       "                                             summary  verified        time  \\\n",
       "0                   Easy install, seamless migration      True  1458864000   \n",
       "1                                         Five Stars      True  1417478400   \n",
       "2  This is the best development tool I've ever used.     False  1252886400   \n",
       "3                                 Very good product.      True  1458604800   \n",
       "4  ... from my last version and I am having a gre...      True  1454716800   \n",
       "5                              Well worth the money!     False  1448496000   \n",
       "6  Microsoft Lies : Vista sucks : How to use it a...     False  1231891200   \n",
       "7  Too bad it isn't better; also, installation pr...     False  1335398400   \n",
       "8         Beware signing up for free 3 months online     False  1167350400   \n",
       "9                                    Mutiple crashes     False  1259452800   \n",
       "\n",
       "   log_votes  isPositive  \n",
       "0   0.000000         1.0  \n",
       "1   0.000000         1.0  \n",
       "2   0.000000         1.0  \n",
       "3   0.000000         1.0  \n",
       "4   2.197225         0.0  \n",
       "5   0.000000         1.0  \n",
       "6   0.000000         0.0  \n",
       "7   0.000000         0.0  \n",
       "8   2.397895         0.0  \n",
       "9   1.098612         0.0  "
      ]
     },
     "execution_count": 4,
     "metadata": {},
     "output_type": "execute_result"
    }
   ],
   "source": [
    "df.head(10)"
   ]
  },
  {
   "cell_type": "markdown",
   "metadata": {},
   "source": [
    "## 2. <a name=\"2\">Exploratory data analysis</a>\n",
    "(<a href=\"#0\">Go to top</a>)"
   ]
  },
  {
   "cell_type": "markdown",
   "metadata": {},
   "source": [
    "Let's look at the distribution of __isPositive__ field."
   ]
  },
  {
   "cell_type": "code",
   "execution_count": 5,
   "metadata": {},
   "outputs": [
    {
     "data": {
      "text/plain": [
       "1.0    34954\n",
       "0.0    21046\n",
       "Name: isPositive, dtype: int64"
      ]
     },
     "execution_count": 5,
     "metadata": {},
     "output_type": "execute_result"
    }
   ],
   "source": [
    "df[\"isPositive\"].value_counts()"
   ]
  },
  {
   "cell_type": "markdown",
   "metadata": {},
   "source": [
    "We can check the number of missing values for each columm below."
   ]
  },
  {
   "cell_type": "code",
   "execution_count": 6,
   "metadata": {},
   "outputs": [
    {
     "name": "stdout",
     "output_type": "stream",
     "text": [
      "ID             0\n",
      "reviewText    10\n",
      "summary       12\n",
      "verified       0\n",
      "time           0\n",
      "log_votes      0\n",
      "isPositive     0\n",
      "dtype: int64\n"
     ]
    }
   ],
   "source": [
    "print(df.isna().sum())"
   ]
  },
  {
   "cell_type": "markdown",
   "metadata": {},
   "source": [
    "We have missing values in our text fields. We will use the __reviewText__ field, so we fill-in the missing values in it with the empty string."
   ]
  },
  {
   "cell_type": "code",
   "execution_count": 7,
   "metadata": {},
   "outputs": [],
   "source": [
    "df[\"reviewText\"].fillna(\"\", inplace=True)"
   ]
  },
  {
   "cell_type": "markdown",
   "metadata": {},
   "source": [
    "## 3. <a name=\"3\">Text Processing: Stop words removal and stemming</a>\n",
    "(<a href=\"#0\">Go to top</a>)"
   ]
  },
  {
   "cell_type": "markdown",
   "metadata": {},
   "source": [
    "We will create the stop word removal and text cleaning processes below. NLTK library provides a list of common stop words. We will use the list, but remove some of the words from that list (because those words are actually useful to understand the sentiment in the sentence)."
   ]
  },
  {
   "cell_type": "code",
   "execution_count": 8,
   "metadata": {},
   "outputs": [],
   "source": [
    "# Let's get a list of stop words from the NLTK library\n",
    "stop = stopwords.words(\"english\")\n",
    "\n",
    "# These words are important for our problem. We don't want to remove them.\n",
    "excluding = [\n",
    "    \"against\",\n",
    "    \"not\",\n",
    "    \"don\",\n",
    "    \"don't\",\n",
    "    \"ain\",\n",
    "    \"aren\",\n",
    "    \"aren't\",\n",
    "    \"couldn\",\n",
    "    \"couldn't\",\n",
    "    \"didn\",\n",
    "    \"didn't\",\n",
    "    \"doesn\",\n",
    "    \"doesn't\",\n",
    "    \"hadn\",\n",
    "    \"hadn't\",\n",
    "    \"hasn\",\n",
    "    \"hasn't\",\n",
    "    \"haven\",\n",
    "    \"haven't\",\n",
    "    \"isn\",\n",
    "    \"isn't\",\n",
    "    \"mightn\",\n",
    "    \"mightn't\",\n",
    "    \"mustn\",\n",
    "    \"mustn't\",\n",
    "    \"needn\",\n",
    "    \"needn't\",\n",
    "    \"shouldn\",\n",
    "    \"shouldn't\",\n",
    "    \"wasn\",\n",
    "    \"wasn't\",\n",
    "    \"weren\",\n",
    "    \"weren't\",\n",
    "    \"won\",\n",
    "    \"won't\",\n",
    "    \"wouldn\",\n",
    "    \"wouldn't\",\n",
    "]\n",
    "\n",
    "# New stop word list\n",
    "stop_words = [word for word in stop if word not in excluding]\n",
    "\n",
    "snow = SnowballStemmer(\"english\")\n",
    "\n",
    "def process_text(texts):\n",
    "    final_text_list = []\n",
    "    for sent in texts:\n",
    "\n",
    "        # Check if the sentence is a missing value\n",
    "        if isinstance(sent, str) == False:\n",
    "            sent = \"\"\n",
    "\n",
    "        filtered_sentence = []\n",
    "        \n",
    "        # Lowercase\n",
    "        sent = sent.lower()\n",
    "        # Remove leading/trailing whitespace\n",
    "        sent = sent.strip()\n",
    "        # Remove extra space and tabs\n",
    "        sent = re.sub(\"\\s+\", \" \", sent)\n",
    "        # Remove HTML tags/markups:\n",
    "        sent = re.compile(\"<.*?>\").sub(\"\", sent)\n",
    "\n",
    "        for w in word_tokenize(sent):\n",
    "            # We are applying some custom filtering here, feel free to try different things\n",
    "            # Check if it is not numeric and its length>2 and not in stop words\n",
    "            if (not w.isnumeric()) and (len(w) > 2) and (w not in stop_words):\n",
    "                # Stem and add to filtered list\n",
    "                filtered_sentence.append(snow.stem(w))\n",
    "        final_string = \" \".join(filtered_sentence)  # final string of cleaned words\n",
    "\n",
    "        final_text_list.append(final_string)\n",
    "\n",
    "    return final_text_list"
   ]
  },
  {
   "cell_type": "markdown",
   "metadata": {},
   "source": [
    "Let's inspect the effect of our preprocessing on some text from our data set"
   ]
  },
  {
   "cell_type": "code",
   "execution_count": 9,
   "metadata": {},
   "outputs": [
    {
     "name": "stdout",
     "output_type": "stream",
     "text": [
      "Raw text: \n",
      "Purchased as a quick fix for a needed Server 2003 R2 upgrade. Easy install, seamless migration. Not much MS full support left on it though. This was a one-of-a kind purchase to meet an upgrade need at a low cost. Probably a lucky find. Service and delivery were good AND the activation code worked without a burp.\n",
      "\n",
      "Preprocessed text:\n",
      "['purchas quick fix need server upgrad easi instal seamless migrat not much full support left though one-of-a kind purchas meet upgrad need low cost probabl lucki find servic deliveri good activ code work without burp']\n"
     ]
    }
   ],
   "source": [
    "review = df.reviewText.iloc[0]\n",
    "print(f\"Raw text: \\n{review}\\n\")\n",
    "print(f\"Preprocessed text:\\n{process_text([review])}\")"
   ]
  },
  {
   "cell_type": "code",
   "execution_count": 10,
   "metadata": {},
   "outputs": [
    {
     "name": "stdout",
     "output_type": "stream",
     "text": [
      "Raw text: \n",
      "I use it regularly. Great for organizing and keeping up with dates.\n",
      "\n",
      "Preprocessed text:\n",
      "['use regular great organ keep date']\n"
     ]
    }
   ],
   "source": [
    "review = df.reviewText.iloc[20]\n",
    "print(f\"Raw text: \\n{review}\\n\")\n",
    "print(f\"Preprocessed text:\\n{process_text([review])}\")"
   ]
  },
  {
   "cell_type": "markdown",
   "metadata": {},
   "source": [
    "## 4. <a name=\"4\">Train - Validation Split</a>\n",
    "(<a href=\"#0\">Go to top</a>)\n",
    "\n",
    "Let's split our dataset into training (90%) and validation (10%). "
   ]
  },
  {
   "cell_type": "code",
   "execution_count": 11,
   "metadata": {},
   "outputs": [],
   "source": [
    "X_train, X_val, y_train, y_val = train_test_split(\n",
    "    df[[\"reviewText\"]],\n",
    "    df[\"isPositive\"].values,\n",
    "    test_size=0.10,\n",
    "    shuffle=True,\n",
    "    random_state=324,\n",
    ")"
   ]
  },
  {
   "cell_type": "code",
   "execution_count": 12,
   "metadata": {},
   "outputs": [
    {
     "name": "stdout",
     "output_type": "stream",
     "text": [
      "Processing the reviewText fields...\n"
     ]
    }
   ],
   "source": [
    "print(\"Processing the reviewText fields...\")\n",
    "X_train[\"reviewText\"] = process_text(X_train[\"reviewText\"].tolist())\n",
    "X_val[\"reviewText\"] = process_text(X_val[\"reviewText\"].tolist())"
   ]
  },
  {
   "cell_type": "code",
   "execution_count": 13,
   "metadata": {},
   "outputs": [
    {
     "name": "stdout",
     "output_type": "stream",
     "text": [
      "Shapes of features: Training and Validation\n",
      "(50400, 750) (5600, 750)\n"
     ]
    }
   ],
   "source": [
    "# Use TD-IDF to vectorize to vectors of len 750.\n",
    "tf_idf_vectorizer = TfidfVectorizer(max_features=750)\n",
    "\n",
    "# Fit the vectorizer to training data\n",
    "# Don't use the fit() on validation or test datasets\n",
    "tf_idf_vectorizer.fit(X_train[\"reviewText\"].values)\n",
    "\n",
    "# Transform text fields\n",
    "X_train = tf_idf_vectorizer.transform(X_train[\"reviewText\"].values).toarray()\n",
    "X_val = tf_idf_vectorizer.transform(X_val[\"reviewText\"].values).toarray()\n",
    "\n",
    "print(\"Shapes of features: Training and Validation\")\n",
    "print(X_train.shape, X_val.shape)"
   ]
  },
  {
   "cell_type": "markdown",
   "metadata": {},
   "source": [
    "We can inspect the tokens in the vocabulary (which we've set to be of size 750)"
   ]
  },
  {
   "cell_type": "code",
   "execution_count": 14,
   "metadata": {},
   "outputs": [
    {
     "data": {
      "text/plain": [
       "array(['10', 'abil', 'abl', 'absolut', 'accept', 'access', 'account',\n",
       "       'accur', 'activ', 'actual'], dtype=object)"
      ]
     },
     "execution_count": 14,
     "metadata": {},
     "output_type": "execute_result"
    }
   ],
   "source": [
    "tf_idf_vectorizer.get_feature_names_out()[:10]"
   ]
  },
  {
   "cell_type": "markdown",
   "metadata": {},
   "source": [
    "Our __process_text()__ method in section 3 uses empty string for missing values."
   ]
  },
  {
   "cell_type": "markdown",
   "metadata": {},
   "source": [
    "## 6. <a name=\"6\">Train the classifier</a>\n",
    "(<a href=\"#0\">Go to top</a>)\n",
    "\n",
    "## Single Layer Network/Logistic Regression \n",
    "\n",
    "To handle this binary classification problem, let's first consider a logistic regression model, mapping the input $\\mathbf{X}$ to the output $\\mathbf{y}$ by\n",
    "\n",
    "$$\n",
    "\\mathbf{\\hat{y}} = \\mathrm{sigmoid}(\\mathbf{X}\\mathbf{w} + \\mathbf{b}),\n",
    "$$\n",
    "\n",
    "with some initial choices for the parameters, $\\mathbf{w}$ weights matrix and bias $\\mathbf{b}$. We initialize the weights as random Gaussian noise, with zero mean and standard deviation 1, and start with zero bias.\n"
   ]
  },
  {
   "cell_type": "markdown",
   "metadata": {},
   "source": [
    "Let's introduce the single layer networks! We use the Pytorch library here. In this first part, we do the following:\n",
    "* Select our hyper-parameters to use in this problem\n",
    "* Build the network\n",
    "* Define loss function and optimizer\n",
    "* Create data loaders"
   ]
  },
  {
   "cell_type": "code",
   "execution_count": 15,
   "metadata": {},
   "outputs": [],
   "source": [
    "# How many samples to use for each weight update\n",
    "batch_size = 16\n",
    "# Total number of iterations\n",
    "# One epoch is one pass over all data in the training set\n",
    "epochs = 15\n",
    "# Learning rate\n",
    "lr = 0.01\n",
    "\n",
    "# Run the training in the GPU if supported by our instance, else in the CPU\n",
    "device = torch.device(\"cuda:0\" if torch.cuda.is_available() else \"cpu\")\n",
    "\n",
    "# Let's build our single layer network (logistic regression here)\n",
    "net = nn.Sequential(\n",
    "    nn.Linear(in_features=750, # matches the size of vectorizer: 750\n",
    "              out_features=1), \n",
    "    nn.Sigmoid()\n",
    ")\n",
    "net.to(device)\n",
    "\n",
    "# Initialize the network\n",
    "def init_weights(m):\n",
    "    if type(m) == nn.Linear:\n",
    "        nn.init.normal_(m.weight, std=1)\n",
    "        nn.init.zeros_(m.bias)\n",
    "net.apply(init_weights)\n",
    "\n",
    "# Define the loss. For binary classification the appropriate choice is Binary Cross Entropy.\n",
    "# As we used sigmoid in the last layer, we use `nn.BCELoss`.\n",
    "# Otherwise we could have made use of `nn.BCEWithLogitsLoss`.\n",
    "loss = BCELoss(reduction=\"none\")\n",
    "\n",
    "# Define the optimizer, SGD (Stochastic Gradient Descent) with learning rate\n",
    "optimizer = torch.optim.SGD(net.parameters(), lr=lr)\n",
    "\n",
    "# Use PyTorch DataLoaders to load the data in batches\n",
    "train_dataset = TensorDataset(\n",
    "    torch.tensor(X_train, dtype=torch.float32),\n",
    "    torch.tensor(y_train, dtype=torch.float32),\n",
    ")\n",
    "train_loader = DataLoader(train_dataset, batch_size=batch_size)\n",
    "\n",
    "# Move validation dataset on CPU/GPU device\n",
    "X_val = torch.tensor(X_val, dtype=torch.float32).to(device)\n",
    "y_val = torch.tensor(y_val, dtype=torch.float32).to(device)"
   ]
  },
  {
   "cell_type": "markdown",
   "metadata": {},
   "source": [
    "After these, we are ready to train this network. See below for the training and validation code. At high level, we have three main parts: \n",
    "\n",
    "__1. Epochs loop:__ Loop over your datast to learn and update your weights. Neural networks usually need to see the dataset multiple times to learn the better (this can be considered a slow process).\n",
    "\n",
    "__2. Training loop:__ During the training, we loop over the data loader. Data loader loads the data in batches. We selected batch size earlier. Here, the weights are updated for each batch.\n",
    "\n",
    "__3. Validation:__ After the training loop is done, we go over the validation data and calculate the validation loss."
   ]
  },
  {
   "cell_type": "code",
   "execution_count": 16,
   "metadata": {},
   "outputs": [
    {
     "name": "stdout",
     "output_type": "stream",
     "text": [
      "Epoch 0. Train_loss 0.604, Validation_loss 0.524, Seconds 28.275\n",
      "Epoch 1. Train_loss 0.486, Validation_loss 0.466, Seconds 2.227\n",
      "Epoch 2. Train_loss 0.444, Validation_loss 0.437, Seconds 2.290\n",
      "Epoch 3. Train_loss 0.421, Validation_loss 0.420, Seconds 2.158\n",
      "Epoch 4. Train_loss 0.406, Validation_loss 0.408, Seconds 2.193\n",
      "Epoch 5. Train_loss 0.396, Validation_loss 0.399, Seconds 2.292\n",
      "Epoch 6. Train_loss 0.387, Validation_loss 0.392, Seconds 2.206\n",
      "Epoch 7. Train_loss 0.381, Validation_loss 0.387, Seconds 2.266\n",
      "Epoch 8. Train_loss 0.376, Validation_loss 0.383, Seconds 2.242\n",
      "Epoch 9. Train_loss 0.372, Validation_loss 0.379, Seconds 2.206\n",
      "Epoch 10. Train_loss 0.369, Validation_loss 0.376, Seconds 2.211\n",
      "Epoch 11. Train_loss 0.366, Validation_loss 0.374, Seconds 2.203\n",
      "Epoch 12. Train_loss 0.364, Validation_loss 0.372, Seconds 2.243\n",
      "Epoch 13. Train_loss 0.362, Validation_loss 0.370, Seconds 2.278\n",
      "Epoch 14. Train_loss 0.360, Validation_loss 0.369, Seconds 2.185\n"
     ]
    }
   ],
   "source": [
    "# Lists to store the losses as the training progresses\n",
    "train_losses = []\n",
    "val_losses = []\n",
    "\n",
    "# Loop over epochs\n",
    "for epoch in range(epochs):\n",
    "    start = time.time()\n",
    "    training_loss = 0\n",
    "    # Build a training loop to train the network\n",
    "    for data, target in train_loader:\n",
    "        # zero the parameter gradients\n",
    "        optimizer.zero_grad()\n",
    "\n",
    "        data = data.to(device)\n",
    "        target = target.to(device).view(-1, 1)\n",
    "\n",
    "        # Forward pass - compute the predictions of the NN on the batch\n",
    "        output = net(data)  \n",
    "        # Compute the loss and sum (error between the net's predictions and the actual labels)\n",
    "        L = loss(output, target).sum()\n",
    "        training_loss += L.item() \n",
    "        # Calculate gradients\n",
    "        L.backward()  \n",
    "        # Update weights with gradient descent\n",
    "        optimizer.step()  \n",
    "\n",
    "    # Get validation predictions\n",
    "    val_predictions = net(X_val)\n",
    "    # Calculate the validation loss\n",
    "    val_loss = torch.sum(loss(val_predictions, y_val.view(-1, 1))).item()\n",
    "\n",
    "    # Take the average losses\n",
    "    training_loss = training_loss / len(y_train)\n",
    "    val_loss = val_loss / len(y_val)\n",
    "\n",
    "    train_losses.append(training_loss)\n",
    "    val_losses.append(val_loss)\n",
    "\n",
    "    end = time.time()\n",
    "    print(\n",
    "        f\"Epoch {epoch}. Train_loss {training_loss:.3f}, Validation_loss {val_loss:.3f}, Seconds {end-start:.3f}\"\n",
    "    )"
   ]
  },
  {
   "cell_type": "code",
   "execution_count": 17,
   "metadata": {},
   "outputs": [
    {
     "data": {
      "image/png": "[encoded data removed]",
      "text/plain": [
       "<Figure size 640x480 with 1 Axes>"
      ]
     },
     "metadata": {},
     "output_type": "display_data"
    }
   ],
   "source": [
    "plt.plot(train_losses, label=\"Training Loss\")\n",
    "plt.plot(val_losses, label=\"Validation Loss\")\n",
    "plt.title(\"Loss values\")\n",
    "plt.xlabel(\"Epoch\")\n",
    "plt.ylabel(\"Loss\")\n",
    "plt.legend()\n",
    "plt.show()"
   ]
  },
  {
   "cell_type": "markdown",
   "metadata": {},
   "source": [
    "## 7. <a name=\"7\">Make predictions on the validation data and test the classifier</a>\n",
    "(<a href=\"#0\">Go to top</a>)\n",
    "\n",
    "Let's get the validation predictions with this ```val_predictions = net(X_val)```. Then, we look at our validation data performance. See comments in the code for more details."
   ]
  },
  {
   "cell_type": "code",
   "execution_count": 18,
   "metadata": {},
   "outputs": [
    {
     "name": "stdout",
     "output_type": "stream",
     "text": [
      "[[1.]\n",
      " [1.]\n",
      " [1.]\n",
      " ...\n",
      " [1.]\n",
      " [1.]\n",
      " [0.]]\n"
     ]
    }
   ],
   "source": [
    "# Get predictions using the trained network: \"net\"\n",
    "val_predictions = net(X_val)\n",
    "# Round up (to 1) or down (to 0) the result (remember the sigmoid).\n",
    "# Use np.rint() for that\n",
    "val_predictions = np.rint(val_predictions.detach().cpu().numpy())\n",
    "print(val_predictions)"
   ]
  },
  {
   "cell_type": "markdown",
   "metadata": {},
   "source": [
    "Let's get rid of the one extra level in this array. We will simply use the np.squeeze() function. "
   ]
  },
  {
   "cell_type": "code",
   "execution_count": 19,
   "metadata": {},
   "outputs": [
    {
     "name": "stdout",
     "output_type": "stream",
     "text": [
      "[1. 1. 1. ... 1. 1. 0.]\n"
     ]
    }
   ],
   "source": [
    "val_predictions = np.squeeze(val_predictions)\n",
    "print(val_predictions)"
   ]
  },
  {
   "cell_type": "markdown",
   "metadata": {},
   "source": [
    "Confusion matrix, classification report and accuracy score are printed below."
   ]
  },
  {
   "cell_type": "code",
   "execution_count": 20,
   "metadata": {},
   "outputs": [
    {
     "name": "stdout",
     "output_type": "stream",
     "text": [
      "[[1503  549]\n",
      " [ 395 3153]]\n",
      "              precision    recall  f1-score   support\n",
      "\n",
      "         0.0       0.79      0.73      0.76      2052\n",
      "         1.0       0.85      0.89      0.87      3548\n",
      "\n",
      "    accuracy                           0.83      5600\n",
      "   macro avg       0.82      0.81      0.82      5600\n",
      "weighted avg       0.83      0.83      0.83      5600\n",
      "\n",
      "Accuracy (validation): 0.8314285714285714\n"
     ]
    }
   ],
   "source": [
    "y_val = y_val.detach().cpu().numpy()\n",
    "print(confusion_matrix(y_val, val_predictions))\n",
    "print(classification_report(y_val, val_predictions))\n",
    "print(\"Accuracy (validation):\", accuracy_score(y_val, val_predictions))"
   ]
  },
  {
   "cell_type": "markdown",
   "metadata": {},
   "source": [
    "## 8. <a name=\"8\">Getting predictions on the test data and saving results</a>"
   ]
  },
  {
   "cell_type": "code",
   "execution_count": 21,
   "metadata": {},
   "outputs": [],
   "source": [
    "df_test = pd.read_csv(\"../../data/examples/NLP-REVIEW-DATA-CLASSIFICATION-TEST.csv\")"
   ]
  },
  {
   "cell_type": "code",
   "execution_count": 22,
   "metadata": {},
   "outputs": [],
   "source": [
    "X_test = process_text(df_test[\"reviewText\"].tolist())"
   ]
  },
  {
   "cell_type": "code",
   "execution_count": 23,
   "metadata": {},
   "outputs": [
    {
     "name": "stdout",
     "output_type": "stream",
     "text": [
      "Shapes of features: Training and Validation\n",
      "(14000, 750)\n"
     ]
    }
   ],
   "source": [
    "X_test = tf_idf_vectorizer.transform(X_test).toarray()\n",
    "\n",
    "print(\"Shapes of features: Training and Validation\")\n",
    "print(X_test.shape)"
   ]
  },
  {
   "cell_type": "code",
   "execution_count": 24,
   "metadata": {},
   "outputs": [
    {
     "name": "stdout",
     "output_type": "stream",
     "text": [
      "torch.Size([14000, 750])\n"
     ]
    }
   ],
   "source": [
    "X_test = torch.tensor(X_test, dtype=torch.float32).to(device)\n",
    "print(X_test.shape)"
   ]
  },
  {
   "cell_type": "code",
   "execution_count": 25,
   "metadata": {},
   "outputs": [
    {
     "name": "stdout",
     "output_type": "stream",
     "text": [
      "[[0.]\n",
      " [1.]\n",
      " [1.]\n",
      " ...\n",
      " [1.]\n",
      " [0.]\n",
      " [1.]]\n"
     ]
    }
   ],
   "source": [
    "# Get predictions using the trained network: \"net\"\n",
    "test_predictions = net(X_test)\n",
    "# Round up (to 1) or down (to 0) the result (remember the sigmoid).\n",
    "# Use np.rint() for that\n",
    "test_predictions = np.rint(test_predictions.detach().cpu().numpy())\n",
    "print(test_predictions)"
   ]
  },
  {
   "cell_type": "code",
   "execution_count": 26,
   "metadata": {},
   "outputs": [
    {
     "name": "stdout",
     "output_type": "stream",
     "text": [
      "[0. 1. 1. ... 1. 0. 1.]\n"
     ]
    }
   ],
   "source": [
    "test_predictions = np.squeeze(test_predictions)\n",
    "print(test_predictions)"
   ]
  },
  {
   "cell_type": "code",
   "execution_count": 27,
   "metadata": {},
   "outputs": [],
   "source": [
    "import pandas as pd\n",
    "\n",
    "result_df = pd.DataFrame()\n",
    "result_df[\"ID\"] = df_test[\"ID\"]\n",
    "result_df[\"isPositive\"] = test_predictions\n",
    "\n",
    "result_df.to_csv(\"result_day1_logistic_regr.csv\", encoding='utf-8', index=False)"
   ]
  },
  {
   "cell_type": "markdown",
   "metadata": {},
   "source": [
    "## 9. <a name=\"9\">Ideas for improvement</a>\n",
    "(<a href=\"#0\">Go to top</a>)\n",
    "\n",
    "We can usually improve performance with some additional work. You can try the following:\n",
    "* Experiment with different values for the hyperparameters: Batch size and learning rate.\n",
    "* How about adding another layer? It is tomorrow's topic, but you can try adding another layer. Check out the MLA-NLP-DAY2-NN-NB notebook from tomorrow's content if you are interested.\n",
    "* Come up with some other features such as having certain punctuations, all-capitalized words or some words that might be useful in this problem."
   ]
  }
 ],
 "metadata": {
  "kernelspec": {
   "display_name": "Python 3 (ipykernel)",
   "language": "python",
   "name": "python3"
  },
  "language_info": {
   "codemirror_mode": {
    "name": "ipython",
    "version": 3
   },
   "file_extension": ".py",
   "mimetype": "text/x-python",
   "name": "python",
   "nbconvert_exporter": "python",
   "pygments_lexer": "ipython3",
   "version": "3.8.8"
  }
 },
 "nbformat": 4,
 "nbformat_minor": 4
}
